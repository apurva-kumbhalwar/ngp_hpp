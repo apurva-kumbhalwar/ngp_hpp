{
 "cells": [
  {
   "cell_type": "markdown",
   "id": "487be7e0-1247-476b-97f3-fa057fb4c71d",
   "metadata": {},
   "source": [
    "### Unsupervised Machine Learning"
   ]
  },
  {
   "cell_type": "code",
   "execution_count": null,
   "id": "3a7f27bf-236d-432c-8872-8da32b690068",
   "metadata": {},
   "outputs": [],
   "source": [
    "If the Data is Unlabelled then we have to use Unsupervised ML\n",
    "\n",
    "Only have independent Variables (X features)\n",
    "\n",
    "Unsupervised ML:\n",
    "    1. KMeans Clustering\n",
    "    2. Hierarchical Clustering\n",
    "    3. Agglomerative\n",
    "    4. DBSCAN\n",
    "    5. PCA & LDA"
   ]
  },
  {
   "cell_type": "markdown",
   "id": "8c670212-2af4-4e8b-b038-abc0d0635243",
   "metadata": {},
   "source": [
    "### KMeans Clustering"
   ]
  },
  {
   "cell_type": "code",
   "execution_count": null,
   "id": "bd820c00-9f56-40db-8fc7-25125b1955f7",
   "metadata": {},
   "outputs": [],
   "source": [
    ">> KMeans is an unsupervised ML Algorithm\n",
    ">> Clustering is also called as Segmentation\n",
    ">> It is a Distance based Algorithm\n",
    ">> Centroid based Algorithm\n",
    "\n",
    ">> Homogeneous groups within data\n",
    ">> Similarity based/ properties of datapoints\n",
    ">> It is a process of dividing dataset into groups, consisting of similar patterns\n",
    "\n",
    ">> We do not have any actual target column, We cannot evaluate Accuracy\n",
    ">> Feature Scaling is required\n",
    "\n",
    "1. Unlabelled Data\n",
    "2. Find a pattern/hidden pattern"
   ]
  },
  {
   "cell_type": "code",
   "execution_count": null,
   "id": "35d2a711-5d23-49e6-ab1e-ce697657b3cf",
   "metadata": {},
   "outputs": [],
   "source": []
  },
  {
   "cell_type": "code",
   "execution_count": null,
   "id": "a0155e8d-d571-4b9a-8f28-e4c0934be758",
   "metadata": {},
   "outputs": [],
   "source": []
  },
  {
   "cell_type": "code",
   "execution_count": null,
   "id": "5b963764-92ed-464f-9364-301ac2064fda",
   "metadata": {},
   "outputs": [],
   "source": []
  },
  {
   "cell_type": "code",
   "execution_count": null,
   "id": "2b32a0c4-70c7-46df-8e39-a4643ba9d572",
   "metadata": {},
   "outputs": [],
   "source": []
  },
  {
   "cell_type": "code",
   "execution_count": null,
   "id": "c7344a59-cf09-4acf-8744-7f92b8609296",
   "metadata": {},
   "outputs": [],
   "source": []
  },
  {
   "cell_type": "code",
   "execution_count": null,
   "id": "57b5cf7d-5b9d-494b-8a05-41acbfcec7a1",
   "metadata": {},
   "outputs": [],
   "source": []
  },
  {
   "cell_type": "code",
   "execution_count": null,
   "id": "a8cdb9bb-0db8-4011-a708-93bf932ef84a",
   "metadata": {},
   "outputs": [],
   "source": []
  },
  {
   "cell_type": "code",
   "execution_count": null,
   "id": "542a7a08-e7cd-4e77-b819-a1b1afa65dd1",
   "metadata": {},
   "outputs": [],
   "source": []
  }
 ],
 "metadata": {
  "kernelspec": {
   "display_name": "Python (model)",
   "language": "python",
   "name": "model"
  },
  "language_info": {
   "codemirror_mode": {
    "name": "ipython",
    "version": 3
   },
   "file_extension": ".py",
   "mimetype": "text/x-python",
   "name": "python",
   "nbconvert_exporter": "python",
   "pygments_lexer": "ipython3",
   "version": "3.10.14"
  }
 },
 "nbformat": 4,
 "nbformat_minor": 5
}
