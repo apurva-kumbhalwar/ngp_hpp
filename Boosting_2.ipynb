{
 "cells": [
  {
   "cell_type": "markdown",
   "id": "3c7f653e-45e6-42af-a235-5b7bee7e9049",
   "metadata": {},
   "source": [
    "### Boosting"
   ]
  },
  {
   "cell_type": "code",
   "execution_count": null,
   "id": "c3be6857-9ca8-4b43-a61f-cbf0c0e89e69",
   "metadata": {},
   "outputs": [],
   "source": [
    "Boosting is an ensemble learning technique.\n",
    "\n",
    "It is a sequential Process.\n",
    "There is a successor and predecessors.\n",
    "It works on predecessors\n",
    "\n",
    "1. Adaptive Boosting\n",
    "2. Gradient Boosting\n",
    "3. Xtreme Gradient Boosting(XGBoost)\n",
    "4. LightGB\n",
    "5. CatBoost"
   ]
  },
  {
   "cell_type": "markdown",
   "id": "e1978d7f-30f3-45b4-ae11-e727d243bfdd",
   "metadata": {},
   "source": [
    "### Adaptive Boosting"
   ]
  },
  {
   "cell_type": "code",
   "execution_count": null,
   "id": "13a75afb-dbbb-4aa2-a5b8-0c8fca493978",
   "metadata": {},
   "outputs": [],
   "source": [
    "AdaBoost >> Adaptive Boosting\n",
    "\n",
    "Random Forest >> Forest of Decision Trees\n",
    "                 Collection of Multiple Decision Trees\n",
    "\n",
    "AdaBoost >> Forest of Decision Stumps\n",
    "            Collection of Decision Stumps\n",
    "\n",
    "Decision Stumps >> A Decision Tree with just 1 root node and two leaf nodes\n",
    "                   Level of trees/splitting/max_depth = 1\n",
    "\n",
    "Increase weights of Misclassified Datapoints\n",
    "Decrease weights of Correctly Classified Datapoints"
   ]
  },
  {
   "cell_type": "markdown",
   "id": "280bdea9-b157-4720-b196-6fe2a18ee3ae",
   "metadata": {},
   "source": [
    "### Important Terminology"
   ]
  },
  {
   "cell_type": "code",
   "execution_count": null,
   "id": "3cd2c906-b6b3-45fa-91e9-e3b1d48835a3",
   "metadata": {},
   "outputs": [],
   "source": [
    "1. Decision Stumps >> A Decision Tree with just 1 root node and two leaf nodes\n",
    "\n",
    "2. Samples Weights >> 1 / (Total no of datapoints)\n",
    "\n",
    "3. Total Error (TE) >> (No of Misclassified samples)/ (Total Samples)\n",
    "\n",
    "4. Performance (Alpha) >> (1/2) * log ((1-TE)/TE)\n",
    "\n",
    "5. New Samples Weights (corr_clf) = SW * e**-alpha\n",
    "6. New Samples Weights (incorr_clf) = SW * e**+alpha\n",
    "\n",
    "7. Total Weights = sum of all (New Samples Weights)\n",
    "    Total Weights != 1, So we need to normalise the weights\n",
    "\n",
    "8. norm_weights_corr_clf = NSW_corr / Total Weights\n",
    "9. norm_weights_incorr_clf = NSW_incorr / Total Weights\n",
    "\n",
    "10. Create Weights Buckets = Range\n",
    "\n",
    "11. Pick random weights and compare then against buckets range\n",
    "\n",
    "12. Learning Rate:\n",
    "    Contribution of Weak Learner in Boosting Model\n",
    "    LR >> 0 to inf\n",
    "    Large no of n_stimator >> Small value of LR\n",
    "    LR >> 0 to 1\n",
    "    High LR >> Overfitting"
   ]
  },
  {
   "cell_type": "code",
   "execution_count": null,
   "id": "b3c7e23c-e36c-493b-9b33-8adbe21d845d",
   "metadata": {},
   "outputs": [],
   "source": []
  },
  {
   "cell_type": "code",
   "execution_count": 3,
   "id": "b3404a37-c27f-48b9-8af6-46c47f63eb77",
   "metadata": {},
   "outputs": [],
   "source": [
    "import numpy as np\n",
    "from sklearn.ensemble import AdaBoostClassifier"
   ]
  },
  {
   "cell_type": "code",
   "execution_count": null,
   "id": "de73961d-1a9e-4e4f-9004-81ddffc860fc",
   "metadata": {},
   "outputs": [],
   "source": [
    "    Age   Gender   BP    Target   Sample Weights  Pred\n",
    "1   63     M       122     1          0.14          1\n",
    "2   37     M       100     0          0.14          0\n",
    "3   41     F       86      0          0.14          1\n",
    "4   56     M       125     1          0.14          1\n",
    "5   58     F       130     0          0.14          0 \n",
    "6   55     M       80      1          0.14          0 \n",
    "7   52     F       95      1          0.14          1"
   ]
  },
  {
   "cell_type": "code",
   "execution_count": 1,
   "id": "c8faee5c-0c21-43d7-a3e3-a7f96b3f9d0c",
   "metadata": {},
   "outputs": [
    {
     "data": {
      "text/plain": [
       "0.14285714285714285"
      ]
     },
     "execution_count": 1,
     "metadata": {},
     "output_type": "execute_result"
    }
   ],
   "source": [
    "# Sample Weights\n",
    "1/7"
   ]
  },
  {
   "cell_type": "code",
   "execution_count": 2,
   "id": "205db308-eb99-4667-ae05-c38c26b0215f",
   "metadata": {},
   "outputs": [
    {
     "data": {
      "text/plain": [
       "0.2857142857142857"
      ]
     },
     "execution_count": 2,
     "metadata": {},
     "output_type": "execute_result"
    }
   ],
   "source": [
    "2/7"
   ]
  },
  {
   "cell_type": "code",
   "execution_count": 4,
   "id": "c5b7f2fe-bd0e-48b9-9def-f5e41982d2f1",
   "metadata": {},
   "outputs": [
    {
     "data": {
      "text/plain": [
       "0.47223080442042564"
      ]
     },
     "execution_count": 4,
     "metadata": {},
     "output_type": "execute_result"
    }
   ],
   "source": [
    "# Performance of the stump\n",
    "0.5 * np.log((1-0.28)/0.28)"
   ]
  },
  {
   "cell_type": "code",
   "execution_count": 5,
   "id": "a7c3b755-b6b8-44d7-93ae-b8eab37ee463",
   "metadata": {},
   "outputs": [
    {
     "data": {
      "text/plain": [
       "0.22399918705043045"
      ]
     },
     "execution_count": 5,
     "metadata": {},
     "output_type": "execute_result"
    }
   ],
   "source": [
    "# New weights for Incorrectly Classified Points\n",
    "0.14 * np.exp(0.47)"
   ]
  },
  {
   "cell_type": "code",
   "execution_count": 6,
   "id": "e65d9b79-8f79-4881-97e3-5e7b003de818",
   "metadata": {},
   "outputs": [
    {
     "data": {
      "text/plain": [
       "0.08750031755957811"
      ]
     },
     "execution_count": 6,
     "metadata": {},
     "output_type": "execute_result"
    }
   ],
   "source": [
    "# New weights for Correctly Classified Points\n",
    "0.14 * np.exp(-0.47)"
   ]
  },
  {
   "cell_type": "code",
   "execution_count": 7,
   "id": "6e104e42-6750-474a-873d-1cbb450aac35",
   "metadata": {},
   "outputs": [
    {
     "data": {
      "text/plain": [
       "0.883"
      ]
     },
     "execution_count": 7,
     "metadata": {},
     "output_type": "execute_result"
    }
   ],
   "source": [
    "(0.087 *5) + (0.224 * 2)"
   ]
  },
  {
   "cell_type": "code",
   "execution_count": 8,
   "id": "ebd32771-92ce-43c6-b991-9fce5c7676b4",
   "metadata": {},
   "outputs": [
    {
     "data": {
      "text/plain": [
       "0.2536806342015855"
      ]
     },
     "execution_count": 8,
     "metadata": {},
     "output_type": "execute_result"
    }
   ],
   "source": [
    "# Normalised weights for Incorrectly Classified Points\n",
    "0.224/0.883"
   ]
  },
  {
   "cell_type": "code",
   "execution_count": 9,
   "id": "33a08827-8a76-40ff-960c-6ca161e5ab39",
   "metadata": {},
   "outputs": [
    {
     "data": {
      "text/plain": [
       "0.0985277463193658"
      ]
     },
     "execution_count": 9,
     "metadata": {},
     "output_type": "execute_result"
    }
   ],
   "source": [
    "# Normalised weights for Correctly Classified Points\n",
    "0.087/0.883"
   ]
  },
  {
   "cell_type": "code",
   "execution_count": 10,
   "id": "4488529c-e3d6-491a-a08b-cd6092c8373e",
   "metadata": {},
   "outputs": [
    {
     "data": {
      "text/plain": [
       "0.996"
      ]
     },
     "execution_count": 10,
     "metadata": {},
     "output_type": "execute_result"
    }
   ],
   "source": [
    "(0.098 *5) + (0.253 * 2)"
   ]
  },
  {
   "cell_type": "code",
   "execution_count": null,
   "id": "348c2f90-861c-4618-a1f3-d4cac9f19599",
   "metadata": {},
   "outputs": [],
   "source": []
  }
 ],
 "metadata": {
  "kernelspec": {
   "display_name": "Python (model)",
   "language": "python",
   "name": "model"
  },
  "language_info": {
   "codemirror_mode": {
    "name": "ipython",
    "version": 3
   },
   "file_extension": ".py",
   "mimetype": "text/x-python",
   "name": "python",
   "nbconvert_exporter": "python",
   "pygments_lexer": "ipython3",
   "version": "3.10.14"
  }
 },
 "nbformat": 4,
 "nbformat_minor": 5
}
